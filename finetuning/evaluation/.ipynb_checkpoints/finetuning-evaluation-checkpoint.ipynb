{
 "cells": [
  {
   "cell_type": "markdown",
   "id": "398b879c-e5f5-4013-a8e0-36fc99db69ad",
   "metadata": {},
   "source": [
    "Python Notebook for evaluation of our finetuned model. More specifically, we want to test models ability to update python docstrings.\n",
    "\n",
    "For this we randomly sampled 100 examples of code with outdated docstrings. We then generated new docstrings, both with the old model and with the finetuned model. We evaluated these docstrings with GPT-3.5 and GPT-4o by asking them to rate, which docstring is the most appropriate for the code."
   ]
  },
  {
   "cell_type": "code",
   "execution_count": 15,
   "id": "d70603b8-2604-461b-9851-1a81462ab786",
   "metadata": {},
   "outputs": [],
   "source": [
    "#!pip install openai\n",
    "#!pip install requests\n",
    "#!pip install typing\n",
    "#!pip install matplotlib"
   ]
  },
  {
   "cell_type": "code",
   "execution_count": 2,
   "id": "e09534b1-f1a1-4e84-84dc-cf02c669561a",
   "metadata": {},
   "outputs": [],
   "source": [
    "import json\n",
    "import random\n",
    "\n",
    "with open('../Train_Test_Data/test_data.json', 'r') as file:\n",
    "    data = json.load(file)\n",
    "\n",
    "filtered_elements = [element for element in data if element.get('l') is False]\n",
    "sampled_elements = random.sample(filtered_elements, min(100, len(filtered_elements)))\n",
    "\n",
    "with open('100_last_test_data.json', 'w') as file:\n",
    "    json.dump(sampled_elements, file, indent=4)"
   ]
  },
  {
   "cell_type": "code",
   "execution_count": 3,
   "id": "e28149c1-aaf2-4724-9658-d59af5aa9ec1",
   "metadata": {},
   "outputs": [],
   "source": [
    "import requests\n",
    "from model import TestQuery\n",
    "from typing import Dict, Any\n",
    "\n",
    "def _do_request(\n",
    "        query: TestQuery,\n",
    "        endpoint: str\n",
    "    ) -> Dict[str, Any]:\n",
    "        response = requests.post(\n",
    "            url=f\"http://delos.eaalab.hpi.uni-potsdam.de:9011{endpoint}\",\n",
    "            json=query.model_dump()\n",
    "        )\n",
    "        response.raise_for_status()\n",
    "        return response.json()"
   ]
  },
  {
   "cell_type": "code",
   "execution_count": 4,
   "id": "d8050daf-cc35-4955-8fc2-a9ee75362c79",
   "metadata": {},
   "outputs": [],
   "source": [
    "with open('100_last_test_data.json', 'r') as file:\n",
    "    data = json.load(file)\n",
    "\n",
    "codes = [element.get('c') for element in data]\n",
    "docstrings = [element.get('d') for element in data]"
   ]
  },
  {
   "cell_type": "code",
   "execution_count": 5,
   "id": "9fe8c9c8-39fa-49df-afa6-c65ca6e491ac",
   "metadata": {},
   "outputs": [],
   "source": [
    "num_generations = 100"
   ]
  },
  {
   "cell_type": "code",
   "execution_count": 6,
   "id": "baf2ed08-1fae-4619-a59d-bb645b03de7e",
   "metadata": {},
   "outputs": [],
   "source": [
    "split_codes = []\n",
    "split_codes.append(codes[:25])\n",
    "split_codes.append(codes[25:50])\n",
    "split_codes.append(codes[50:75])\n",
    "split_codes.append(codes[75:])"
   ]
  },
  {
   "cell_type": "code",
   "execution_count": 7,
   "id": "8b000212-8cbb-404e-ba95-c79c6a728e50",
   "metadata": {},
   "outputs": [],
   "source": [
    "split_docstrings = []\n",
    "split_docstrings.append(docstrings[:25])\n",
    "split_docstrings.append(docstrings[25:50])\n",
    "split_docstrings.append(docstrings[50:75])\n",
    "split_docstrings.append(docstrings[75:])"
   ]
  },
  {
   "cell_type": "code",
   "execution_count": 8,
   "id": "49945863-2481-4c30-bba2-29e7044a6889",
   "metadata": {},
   "outputs": [
    {
     "name": "stdout",
     "output_type": "stream",
     "text": [
      "Number of batches: 4\n",
      "Batch size: 25\n"
     ]
    }
   ],
   "source": [
    "print(\"Number of batches: \" + str(len(split_codes)))\n",
    "print(\"Batch size: \" + str(len(split_codes[3])))"
   ]
  },
  {
   "cell_type": "code",
   "execution_count": 9,
   "id": "dd49b80a-e924-44b6-99e4-8d3b6fe395aa",
   "metadata": {},
   "outputs": [],
   "source": [
    "from pydantic_model import TestMethod, NoneTestParameters, GenerationParameters, SampleMethod\n",
    "\n",
    "gen_mid = \"google/codegemma-2b\"\n",
    "\n",
    "all_responses_old_model = {'results' : []}\n",
    "\n",
    "for i in range(4):\n",
    "    test_query = TestQuery(\n",
    "        mid=gen_mid,\n",
    "        codes=split_codes[i],\n",
    "        docstrings=split_docstrings[i],\n",
    "        test_method=TestMethod.UPDATE,\n",
    "        test_parameters=NoneTestParameters(\n",
    "            generation_parameters=GenerationParameters(\n",
    "                max_new_tokens=256,\n",
    "                sample_method=SampleMethod.TOP_P,\n",
    "                top_p=0.85,\n",
    "                temperature=0.5\n",
    "            )\n",
    "        )\n",
    "    )\n",
    "\n",
    "    response_old_model = _do_request(test_query, \"/test\")\n",
    "    all_responses_old_model['results'].extend(response_old_model['results'])"
   ]
  },
  {
   "cell_type": "code",
   "execution_count": 10,
   "id": "f6e3345b-98b4-4f61-b612-fedb95441268",
   "metadata": {},
   "outputs": [],
   "source": [
    "from pydantic_model import TestMethod, NoneTestParameters, GenerationParameters, SampleMethod\n",
    "\n",
    "gen_mid = \"checkpoints/finetuned_0\"\n",
    "\n",
    "all_responses_finetuned_model = {'results' : []}\n",
    "\n",
    "for i in range(4):\n",
    "    test_query = TestQuery(\n",
    "        mid=gen_mid,\n",
    "        codes=split_codes[i],\n",
    "        docstrings=split_docstrings[i],\n",
    "        test_method=TestMethod.UPDATE,\n",
    "        test_parameters=NoneTestParameters(\n",
    "            generation_parameters=GenerationParameters(\n",
    "                max_new_tokens=256,\n",
    "                sample_method=SampleMethod.TOP_P,\n",
    "                top_p=0.85,\n",
    "                temperature=0.5\n",
    "            )\n",
    "        )\n",
    "    )\n",
    "\n",
    "    response_finetuned_model = _do_request(test_query, \"/test\")\n",
    "    all_responses_finetuned_model['results'].extend(response_finetuned_model['results'])"
   ]
  },
  {
   "cell_type": "code",
   "execution_count": 11,
   "id": "506ef996-aabf-4542-b776-267ec1cb6674",
   "metadata": {},
   "outputs": [
    {
     "name": "stdout",
     "output_type": "stream",
     "text": [
      "Number of code examples: 100\n",
      "Number of docstrings: 100\n",
      "Number of updated docstrings with old model: 100\n",
      "Number of updated docstrings with finetuned model: 100\n",
      "Target number: 100\n"
     ]
    }
   ],
   "source": [
    "print(\"Number of code examples: \" + str(len(codes)))\n",
    "print(\"Number of docstrings: \" + str(len(docstrings)))\n",
    "print(\"Number of updated docstrings with original model: \" + str(len(all_responses_old_model['results'])))\n",
    "print(\"Number of updated docstrings with finetuned model: \" + str(len(all_responses_finetuned_model['results'])))\n",
    "print(\"Target number: \" + str(num_generations))"
   ]
  },
  {
   "cell_type": "code",
   "execution_count": 12,
   "id": "61230381-f5fe-4da0-a885-0c7484dc66ef",
   "metadata": {},
   "outputs": [],
   "source": [
    "with open('../../open_ai_key_DO_NOT_PUSH.secret', 'r') as file:\n",
    "    api_key = file.read()"
   ]
  },
  {
   "cell_type": "code",
   "execution_count": 16,
   "id": "21823a25-ed1a-4618-bf8e-05e2075ada5f",
   "metadata": {},
   "outputs": [],
   "source": [
    "from openai import OpenAI\n",
    "client = OpenAI(api_key=api_key)\n",
    "\n",
    "gpt3_completions = []\n",
    "\n",
    "for i in range(0):\n",
    "#for i in range(num_generations):\n",
    "    gpt3_completion = client.chat.completions.create(\n",
    "          model=\"gpt-3.5-turbo\",\n",
    "          messages=[{\"role\": \"system\", \"content\": \"You are an experienced python software developer.\"},\n",
    "                    {\"role\": \"user\", \"content\": \"Rate how well the following three docstrings fit to the given python code. Rate each docstring seperately and don't compare them with each other.\"},\n",
    "                    {\"role\": \"user\", \"content\": \"Code example: \" + codes[i]},\n",
    "                    {\"role\": \"user\", \"content\": \"Docstring-0 example: \" + docstrings[i]},\n",
    "                    {\"role\": \"user\", \"content\": \"Docstring-1 example: \" + all_responses_old_model['results'][i]['updated_docstring']},\n",
    "                    {\"role\": \"user\", \"content\": \"Docstring-2 example: \" + all_responses_finetuned_model['results'][i]['updated_docstring']},\n",
    "                    {\"role\": \"user\", \"content\": \"Explain your reasoning for each docstring and then if Docstring-0 is the best, print 'docstring-0_better'. If Docstring-1 is the best, print 'docstring-1_better'. If Docstring-2 is the best, print 'docstring-2_better'. If none of the docstrings fit, print 'none_fit'.\"}\n",
    "          ]\n",
    "    )\n",
    "    gpt3_completions.append(gpt3_completion)"
   ]
  },
  {
   "cell_type": "code",
   "execution_count": 17,
   "id": "38234327-129b-4fbc-a35b-324156dbbb90",
   "metadata": {},
   "outputs": [
    {
     "name": "stdout",
     "output_type": "stream",
     "text": [
      "Number of used tokens with GPT3: 49047\n"
     ]
    }
   ],
   "source": [
    "gpt3_sums = 0\n",
    "for gpt3_completion in gpt3_completions:\n",
    "    try:\n",
    "        gpt3_sums += gpt3_completion.usage.total_tokens\n",
    "    except AttributeError:\n",
    "        pass\n",
    "\n",
    "print(\"Number of used tokens with GPT3: \" + str(gpt3_sums))"
   ]
  },
  {
   "cell_type": "code",
   "execution_count": 18,
   "id": "f84051bc-2a42-425b-b0bc-f3528e53a11b",
   "metadata": {},
   "outputs": [],
   "source": [
    "with open(\"gpt_3_5_ratings.json\", \"w\") as f:\n",
    "    json.dump([gpt3_completion.choices[0].message.content for gpt3_completion in gpt3_completions], f, indent=4)"
   ]
  },
  {
   "cell_type": "code",
   "execution_count": 6,
   "id": "1f1823dd-7c10-4227-9d32-adc15f3b7ba6",
   "metadata": {},
   "outputs": [],
   "source": [
    "with open(\"gpt_3_5_ratings.json\", \"r\") as f:\n",
    "    data = json.load(f)\n",
    "\n",
    "gpt3_original_docstring = 0\n",
    "gpt3_old_model_updated_docstring = 0\n",
    "gpt3_finetuned_model_updated_docstring = 0\n",
    "gpt3_none_fit = 0\n",
    "\n",
    "for d in data:\n",
    "    if 'docstring-0_better' in d:\n",
    "        gpt3_original_docstring +=1\n",
    "    elif 'docstring-1_better' in d:\n",
    "        gpt3_old_model_updated_docstring +=1\n",
    "    elif 'docstring-2_better' in d:\n",
    "        gpt3_finetuned_model_updated_docstring +=1\n",
    "    elif 'none_fit' in d:\n",
    "        gpt3_none_fit +=1"
   ]
  },
  {
   "cell_type": "code",
   "execution_count": 4,
   "id": "2d2e29a0-489b-4ca8-9370-b7b2dc8155e9",
   "metadata": {},
   "outputs": [
    {
     "name": "stdout",
     "output_type": "stream",
     "text": [
      "GPT3: \n",
      "# Original docstring is best: 2\n",
      "# Updated docstring from original model is best: 46\n",
      "# Updated docstring from finetuned model is best: 21\n",
      "# None fit: 25\n",
      "---\n",
      "Total # of ratings: 94\n"
     ]
    }
   ],
   "source": [
    "print(\"GPT3: \")\n",
    "print(\"# Original docstring is best: \" + str(gpt3_original_docstring))\n",
    "print(\"# Updated docstring from original model is best: \" + str(gpt3_old_model_updated_docstring))\n",
    "print(\"# Updated docstring from finetuned model is best: \" + str(gpt3_finetuned_model_updated_docstring))\n",
    "print(\"# None fit: \" + str(gpt3_none_fit))\n",
    "print(\"---\")\n",
    "print(\"Total # of ratings: \" + str(gpt3_original_docstring + gpt3_old_model_updated_docstring + gpt3_finetuned_model_updated_docstring + gpt3_none_fit))"
   ]
  },
  {
   "cell_type": "code",
   "execution_count": 7,
   "id": "f9385572-b024-405f-a3c2-d2b9f1994bb5",
   "metadata": {},
   "outputs": [
    {
     "data": {
      "image/png": "[encoded data removed]",
      "text/plain": [
       "<Figure size 640x480 with 1 Axes>"
      ]
     },
     "metadata": {},
     "output_type": "display_data"
    }
   ],
   "source": [
    "import matplotlib.pyplot as plt\n",
    "\n",
    "categories = [\"Original docstring\", \"Updated docstring with original model\", \"Updated docstring with finetuned model\", \"No docstring fits\"]\n",
    "values = [gpt3_original_docstring, gpt3_old_model_updated_docstring, gpt3_finetuned_model_updated_docstring, gpt3_none_fit]\n",
    "\n",
    "plt.bar(categories, values)\n",
    "\n",
    "plt.title(\"GPT-3.5 evaluation\")\n",
    "plt.ylabel(\"Counts\")\n",
    "\n",
    "plt.xticks(rotation=45, ha='right')\n",
    "\n",
    "plt.show()"
   ]
  },
  {
   "cell_type": "code",
   "execution_count": 23,
   "id": "addecae2-5254-40e6-ae15-f558386bbc6c",
   "metadata": {},
   "outputs": [],
   "source": [
    "from openai import OpenAI\n",
    "client = OpenAI(api_key=api_key)\n",
    "\n",
    "gpt4_completions = []\n",
    "\n",
    "for i in range(0):\n",
    "#for i in range(num_generations):\n",
    "    gpt4_completion = client.chat.completions.create(\n",
    "          model=\"gpt-4o\",\n",
    "          messages=[{\"role\": \"system\", \"content\": \"You are an experienced python software developer.\"},\n",
    "                    {\"role\": \"user\", \"content\": \"Rate how well the following three docstrings fit to the given python code. Rate each docstring seperately and don't compare them with each other.\"},\n",
    "                    {\"role\": \"user\", \"content\": \"Code example: \" + codes[i]},\n",
    "                    {\"role\": \"user\", \"content\": \"Docstring-0 example: \" + docstrings[i]},\n",
    "                    {\"role\": \"user\", \"content\": \"Docstring-1 example: \" + all_responses_old_model['results'][i]['updated_docstring']},\n",
    "                    {\"role\": \"user\", \"content\": \"Docstring-2 example: \" + all_responses_finetuned_model['results'][i]['updated_docstring']},\n",
    "                    {\"role\": \"user\", \"content\": \"Briefly explain your reasoning for each docstring and then if Docstring-0 is the best, print 'docstring-0_better'. If Docstring-1 is the best, print 'docstring-1_better'. If Docstring-2 is the best, print 'docstring-2_better'. If none of the docstrings fit, print 'none_fit'.\"}\n",
    "          ]\n",
    "    )\n",
    "    gpt4_completions.append(gpt4_completion)"
   ]
  },
  {
   "cell_type": "code",
   "execution_count": 25,
   "id": "dc9316ca-ba0e-40fa-b4f0-c7b5758740cd",
   "metadata": {},
   "outputs": [
    {
     "name": "stdout",
     "output_type": "stream",
     "text": [
      "Number of used tokens with GPT4: 58487\n"
     ]
    }
   ],
   "source": [
    "gpt4_sums = 0\n",
    "for gpt4_completion in gpt4_completions:\n",
    "    try:\n",
    "        gpt4_sums += gpt4_completion.usage.total_tokens\n",
    "    except AttributeError:\n",
    "        pass\n",
    "\n",
    "print(\"Number of used tokens with GPT4: \" + str(gpt4_sums))"
   ]
  },
  {
   "cell_type": "code",
   "execution_count": 26,
   "id": "ccd495b4-10c4-4f90-92f9-1c75a695b9fe",
   "metadata": {},
   "outputs": [],
   "source": [
    "with open(\"gpt_4_ratings.json\", \"w\") as f:\n",
    "    json.dump([gpt4_completion.choices[0].message.content for gpt4_completion in gpt4_completions], f, indent=4)"
   ]
  },
  {
   "cell_type": "code",
   "execution_count": 3,
   "id": "9a8b1180-647b-4f0d-aee4-fa6352ef150b",
   "metadata": {},
   "outputs": [],
   "source": [
    "with open(\"gpt_4_ratings.json\", \"r\") as f:\n",
    "    data = json.load(f)\n",
    "\n",
    "gpt4_original_docstring = 0\n",
    "gpt4_old_model_updated_docstring = 0\n",
    "gpt4_finetuned_model_updated_docstring = 0\n",
    "gpt4_none_fit = 0\n",
    "\n",
    "for d in data:\n",
    "    if 'docstring-0_better' in d:\n",
    "        gpt4_original_docstring +=1\n",
    "    elif 'docstring-1_better' in d:\n",
    "        gpt4_old_model_updated_docstring +=1\n",
    "    elif 'docstring-2_better' in d:\n",
    "        gpt4_finetuned_model_updated_docstring +=1\n",
    "    elif 'none_fit' in d:\n",
    "        gpt4_none_fit +=1"
   ]
  },
  {
   "cell_type": "code",
   "execution_count": 7,
   "id": "8a239135-fb69-4da6-a9cd-d7a11309c2a7",
   "metadata": {},
   "outputs": [
    {
     "name": "stdout",
     "output_type": "stream",
     "text": [
      "GPT4: \n",
      "# Original docstring is best: 0\n",
      "# Updated docstring from original model is best: 42\n",
      "# Updated docstring from finetuned model is best: 19\n",
      "# None fit: 38\n",
      "---\n",
      "Total # of ratings: 99\n"
     ]
    }
   ],
   "source": [
    "print(\"GPT4: \")\n",
    "print(\"# Original docstring is best: \" + str(gpt4_original_docstring))\n",
    "print(\"# Updated docstring from original model is best: \" + str(gpt4_old_model_updated_docstring))\n",
    "print(\"# Updated docstring from finetuned model is best: \" + str(gpt4_finetuned_model_updated_docstring))\n",
    "print(\"# None fit: \" + str(gpt4_none_fit))\n",
    "print(\"---\")\n",
    "print(\"Total # of ratings: \" + str(gpt4_original_docstring + gpt4_old_model_updated_docstring + gpt4_finetuned_model_updated_docstring + gpt4_none_fit))"
   ]
  },
  {
   "cell_type": "code",
   "execution_count": 8,
   "id": "dee14ed0-4db2-493e-84dd-f55911362ce6",
   "metadata": {},
   "outputs": [
    {
     "data": {
      "image/png": "[encoded data removed]",
      "text/plain": [
       "<Figure size 640x480 with 1 Axes>"
      ]
     },
     "metadata": {},
     "output_type": "display_data"
    }
   ],
   "source": [
    "categories = [\"Original docstring\", \"Updated docstring with original model\", \"Updated docstring with finetuned model\", \"No docstring fits\"]\n",
    "values = [gpt4_original_docstring, gpt4_old_model_updated_docstring, gpt4_finetuned_model_updated_docstring, gpt4_none_fit]\n",
    "\n",
    "plt.bar(categories, values)\n",
    "\n",
    "plt.title(\"GPT-4o evaluation\")\n",
    "plt.ylabel(\"Counts\")\n",
    "\n",
    "plt.xticks(rotation=45, ha='right')\n",
    "\n",
    "plt.show()"
   ]
  }
 ],
 "metadata": {
  "kernelspec": {
   "display_name": "Python 3 (ipykernel)",
   "language": "python",
   "name": "python3"
  },
  "language_info": {
   "codemirror_mode": {
    "name": "ipython",
    "version": 3
   },
   "file_extension": ".py",
   "mimetype": "text/x-python",
   "name": "python",
   "nbconvert_exporter": "python",
   "pygments_lexer": "ipython3",
   "version": "3.10.12"
  }
 },
 "nbformat": 4,
 "nbformat_minor": 5
}
