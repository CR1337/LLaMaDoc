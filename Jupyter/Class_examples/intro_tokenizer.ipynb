{
 "cells": [
  {
   "cell_type": "code",
   "execution_count": 1,
   "id": "e8ec8e48-2087-4abf-8a9d-bf3146cd4d11",
   "metadata": {},
   "outputs": [],
   "source": [
    "from transformers import GemmaTokenizer, AutoModelForCausalLM\n",
    "import torch"
   ]
  },
  {
   "cell_type": "code",
   "execution_count": 3,
   "id": "d42bddc3-8e4f-4c8c-9fb4-aa7b0b3613de",
   "metadata": {},
   "outputs": [],
   "source": [
    "gpu = torch.device('cuda:0')"
   ]
  },
  {
   "cell_type": "code",
   "execution_count": 4,
   "id": "79506836-28b7-4897-8c0f-5ceca55dc015",
   "metadata": {},
   "outputs": [
    {
     "name": "stderr",
     "output_type": "stream",
     "text": [
      "Gemma's activation function should be approximate GeLU and not exact GeLU.\n",
      "Changing the activation function to `gelu_pytorch_tanh`.if you want to use the legacy `gelu`, edit the `model.config` to set `hidden_activation=gelu`   instead of `hidden_act`. See https://github.com/huggingface/transformers/pull/29402 for more details.\n"
     ]
    },
    {
     "data": {
      "application/vnd.jupyter.widget-view+json": {
       "model_id": "f030930aec7047a5b72de4052342a6f8",
       "version_major": 2,
       "version_minor": 0
      },
      "text/plain": [
       "Loading checkpoint shards:   0%|          | 0/2 [00:00<?, ?it/s]"
      ]
     },
     "metadata": {},
     "output_type": "display_data"
    }
   ],
   "source": [
    "model_id = \"google/codegemma-2b\"\n",
    "tokenizer = GemmaTokenizer.from_pretrained(model_id)\n",
    "\n",
    "model = AutoModelForCausalLM.from_pretrained(model_id, device_map=gpu, torch_dtype=torch.float16)"
   ]
  },
  {
   "cell_type": "code",
   "execution_count": 5,
   "id": "057472a1-203d-497a-b5c6-260893a46074",
   "metadata": {},
   "outputs": [],
   "source": [
    "prompt = \"def hello_world():\\n\""
   ]
  },
  {
   "cell_type": "code",
   "execution_count": 6,
   "id": "65911c8f-734e-4355-b5cd-6c9bc3368d99",
   "metadata": {},
   "outputs": [
    {
     "data": {
      "text/plain": [
       "{'input_ids': tensor([[     2,   1293,  25612, 235298,   9097,   4409,    108]],\n",
       "       device='cuda:0'), 'attention_mask': tensor([[1, 1, 1, 1, 1, 1, 1]], device='cuda:0')}"
      ]
     },
     "execution_count": 6,
     "metadata": {},
     "output_type": "execute_result"
    }
   ],
   "source": [
    "# pt stands for pytorch\n",
    "inputs = tokenizer(prompt, return_tensors=\"pt\").to(gpu)\n",
    "inputs"
   ]
  },
  {
   "cell_type": "code",
   "execution_count": 7,
   "id": "d1bba0d7-3c8f-4f18-be82-c4a21a534539",
   "metadata": {},
   "outputs": [
    {
     "data": {
      "text/plain": [
       "tensor([[     2,   1293,  25612, 235298,   9097,   4409,    108,    141,   1431,\n",
       "            885,   4521, 235269,   3855,  47347,    108,     70,      1]],\n",
       "       device='cuda:0')"
      ]
     },
     "execution_count": 7,
     "metadata": {},
     "output_type": "execute_result"
    }
   ],
   "source": [
    "outputs = model.generate(**inputs, max_new_tokens=100)\n",
    "outputs"
   ]
  },
  {
   "cell_type": "code",
   "execution_count": 8,
   "id": "f2e7a5b3-e556-466e-b411-db34adb6979f",
   "metadata": {},
   "outputs": [
    {
     "name": "stdout",
     "output_type": "stream",
     "text": [
      "<bos>def hello_world():\n",
      "    print(\"Hello, World!\")\n",
      "<|file_separator|><eos>\n"
     ]
    }
   ],
   "source": [
    "print(tokenizer.decode(outputs[0]))"
   ]
  },
  {
   "cell_type": "code",
   "execution_count": 9,
   "id": "c006df5d-4c34-466c-ba0c-df6fee0377d8",
   "metadata": {},
   "outputs": [
    {
     "data": {
      "text/plain": [
       "256000"
      ]
     },
     "execution_count": 9,
     "metadata": {},
     "output_type": "execute_result"
    }
   ],
   "source": [
    "len(tokenizer.get_vocab())"
   ]
  },
  {
   "cell_type": "code",
   "execution_count": 10,
   "id": "a95a05ae-62fd-478d-a484-1199e0109650",
   "metadata": {},
   "outputs": [
    {
     "data": {
      "text/plain": [
       "['s', 'ully']"
      ]
     },
     "execution_count": 10,
     "metadata": {},
     "output_type": "execute_result"
    }
   ],
   "source": [
    "tokenizer.tokenize('sully')"
   ]
  },
  {
   "cell_type": "code",
   "execution_count": 11,
   "id": "5854430f-4738-4e31-9d9f-60be71b966d4",
   "metadata": {},
   "outputs": [
    {
     "data": {
      "text/plain": [
       "['cou', 'gar']"
      ]
     },
     "execution_count": 11,
     "metadata": {},
     "output_type": "execute_result"
    }
   ],
   "source": [
    "tokenizer.tokenize('cougar')"
   ]
  },
  {
   "cell_type": "code",
   "execution_count": 12,
   "id": "22d714be-ce10-4960-871d-217bcec127cf",
   "metadata": {},
   "outputs": [
    {
     "data": {
      "text/plain": [
       "['hö', 'ger']"
      ]
     },
     "execution_count": 12,
     "metadata": {},
     "output_type": "execute_result"
    }
   ],
   "source": [
    "tokenizer.tokenize('höger')"
   ]
  },
  {
   "cell_type": "code",
   "execution_count": 13,
   "id": "69196079-d7c4-4438-8422-803872c9669d",
   "metadata": {},
   "outputs": [
    {
     "data": {
      "text/plain": [
       "['rechts']"
      ]
     },
     "execution_count": 13,
     "metadata": {},
     "output_type": "execute_result"
    }
   ],
   "source": [
    "tokenizer.tokenize('rechts')"
   ]
  },
  {
   "cell_type": "code",
   "execution_count": 14,
   "id": "93285c48-cfee-4a32-9e2a-d3e124b224f3",
   "metadata": {},
   "outputs": [
    {
     "data": {
      "text/plain": [
       "['1', '1']"
      ]
     },
     "execution_count": 14,
     "metadata": {},
     "output_type": "execute_result"
    }
   ],
   "source": [
    "tokenizer.tokenize('11')"
   ]
  },
  {
   "cell_type": "code",
   "execution_count": 15,
   "id": "32109bab-5c23-4f3c-b4e3-30499f2b27f4",
   "metadata": {},
   "outputs": [
    {
     "data": {
      "text/plain": [
       "['mål']"
      ]
     },
     "execution_count": 15,
     "metadata": {},
     "output_type": "execute_result"
    }
   ],
   "source": [
    "tokenizer.tokenize('mål')"
   ]
  },
  {
   "cell_type": "code",
   "execution_count": 16,
   "id": "a34fd43f-44b0-42c4-af86-375316906c16",
   "metadata": {},
   "outputs": [
    {
     "data": {
      "text/plain": [
       "['🐝']"
      ]
     },
     "execution_count": 16,
     "metadata": {},
     "output_type": "execute_result"
    }
   ],
   "source": [
    "tokenizer.tokenize('🐝')"
   ]
  },
  {
   "cell_type": "code",
   "execution_count": 17,
   "id": "41057157-f288-4f21-99c5-74c0064e7dec",
   "metadata": {},
   "outputs": [
    {
     "data": {
      "text/plain": [
       "tensor(141, device='cuda:0')"
      ]
     },
     "execution_count": 17,
     "metadata": {},
     "output_type": "execute_result"
    }
   ],
   "source": [
    "torch.argmax(torch.softmax(model(**inputs).logits[0][-1], 0))"
   ]
  },
  {
   "cell_type": "code",
   "execution_count": 20,
   "id": "9bec8bb8-1a8b-43fe-a270-84dd56bf8817",
   "metadata": {},
   "outputs": [
    {
     "data": {
      "text/plain": [
       "tensor([1.1449e-09, 7.6911e-06, 9.2773e-06,  ..., 7.0833e-08, 3.6330e-06,\n",
       "        1.2187e-09], device='cuda:0', grad_fn=<SoftmaxBackward0>)"
      ]
     },
     "execution_count": 20,
     "metadata": {},
     "output_type": "execute_result"
    }
   ],
   "source": [
    "torch.softmax(model(**inputs).logits[0][-1], 0)"
   ]
  },
  {
   "cell_type": "code",
   "execution_count": 64,
   "id": "56e8689e-0126-480f-8cfb-95a2dc0c1e32",
   "metadata": {},
   "outputs": [
    {
     "data": {
      "text/plain": [
       "'    '"
      ]
     },
     "execution_count": 64,
     "metadata": {},
     "output_type": "execute_result"
    }
   ],
   "source": [
    "tokenizer.decode([141])"
   ]
  },
  {
   "cell_type": "code",
   "execution_count": 73,
   "id": "ef210c5e-c98b-4b54-99e5-4d1a030879db",
   "metadata": {},
   "outputs": [
    {
     "data": {
      "text/plain": [
       "'<bos>def hello_world():\\ndef hello_world():\\n    print(\"Hello, World!\")\\n\\nif __name__ == \"__main__\":\\n    hello_world()\\n<|file_separator|><eos>'"
      ]
     },
     "execution_count": 73,
     "metadata": {},
     "output_type": "execute_result"
    }
   ],
   "source": [
    "tokenizer.decode(model.generate(**inputs, num_beams=8, max_new_tokens=256)[0])"
   ]
  },
  {
   "cell_type": "code",
   "execution_count": 75,
   "id": "246478c5-6c03-47bb-b7ea-7eb46ec97f81",
   "metadata": {},
   "outputs": [
    {
     "data": {
      "text/plain": [
       "\"<bos>def hello_world():\\ndef hello_world():\\n  print('Hello World!')\\n\""
      ]
     },
     "execution_count": 75,
     "metadata": {},
     "output_type": "execute_result"
    }
   ],
   "source": [
    "tokenizer.decode(model.generate(**inputs, do_sample=True, top_p=0.9)[0])"
   ]
  },
  {
   "cell_type": "code",
   "execution_count": 77,
   "id": "640e0bbc-6008-4615-bc82-9020cda5e802",
   "metadata": {},
   "outputs": [
    {
     "data": {
      "text/plain": [
       "'<bos>def hello_world():\\ndef hello_world():\\n    print(\"Hello, world!\")'"
      ]
     },
     "execution_count": 77,
     "metadata": {},
     "output_type": "execute_result"
    }
   ],
   "source": [
    "tokenizer.decode(model.generate(**inputs, do_sample=True, top_k=3)[0])"
   ]
  },
  {
   "cell_type": "code",
   "execution_count": 1,
   "id": "914094a3-5c14-47f4-b0a9-980b730e56e3",
   "metadata": {},
   "outputs": [
    {
     "ename": "NameError",
     "evalue": "name 'tokenizer' is not defined",
     "output_type": "error",
     "traceback": [
      "\u001b[0;31m---------------------------------------------------------------------------\u001b[0m",
      "\u001b[0;31mNameError\u001b[0m                                 Traceback (most recent call last)",
      "Cell \u001b[0;32mIn[1], line 1\u001b[0m\n\u001b[0;32m----> 1\u001b[0m \u001b[43mtokenizer\u001b[49m\u001b[38;5;241m.\u001b[39mdecode(model\u001b[38;5;241m.\u001b[39mgenerate(\u001b[38;5;241m*\u001b[39m\u001b[38;5;241m*\u001b[39minputs, do_sample\u001b[38;5;241m=\u001b[39m\u001b[38;5;28;01mTrue\u001b[39;00m, top_p\u001b[38;5;241m=\u001b[39m\u001b[38;5;241m0.9\u001b[39m, temperature\u001b[38;5;241m=\u001b[39m\u001b[38;5;241m0.1\u001b[39m)[\u001b[38;5;241m0\u001b[39m])\n",
      "\u001b[0;31mNameError\u001b[0m: name 'tokenizer' is not defined"
     ]
    }
   ],
   "source": [
    "tokenizer.decode(model.generate(**inputs, do_sample=True, top_p=0.9, temperature=0.1)[0])"
   ]
  },
  {
   "cell_type": "code",
   "execution_count": null,
   "id": "4de66e99-52da-47b8-8087-154a24281e84",
   "metadata": {},
   "outputs": [],
   "source": []
  }
 ],
 "metadata": {
  "kernelspec": {
   "display_name": "Python 3 (ipykernel)",
   "language": "python",
   "name": "python3"
  },
  "language_info": {
   "codemirror_mode": {
    "name": "ipython",
    "version": 3
   },
   "file_extension": ".py",
   "mimetype": "text/x-python",
   "name": "python",
   "nbconvert_exporter": "python",
   "pygments_lexer": "ipython3",
   "version": "3.10.12"
  }
 },
 "nbformat": 4,
 "nbformat_minor": 5
}
