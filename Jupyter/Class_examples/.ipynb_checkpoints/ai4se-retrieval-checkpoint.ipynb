{
 "cells": [
  {
   "cell_type": "markdown",
   "id": "2eee2024-39c9-4f2e-8db3-d70a448f2b3c",
   "metadata": {},
   "source": [
    "# Code Retrieval using Embeddings\n",
    "\n",
    "## Load Embedding Model\n",
    "\n",
    "We use [CodeT5+](https://huggingface.co/Salesforce/codet5p-110m-embedding) as embedding model.\n",
    "\n",
    "* Maximum input: 512 tokens\n",
    "* Output dimensions: 256"
   ]
  },
  {
   "cell_type": "code",
   "execution_count": 1,
   "id": "054c4d62-fdd2-4c58-91be-5e70842ae935",
   "metadata": {},
   "outputs": [],
   "source": [
    "from transformers import AutoModel, AutoTokenizer\n",
    "import torch"
   ]
  },
  {
   "cell_type": "code",
   "execution_count": 2,
   "id": "405da85d-e47d-49a2-99bc-ff0cb8bf3a24",
   "metadata": {},
   "outputs": [],
   "source": [
    "gpu = torch.device('cuda:0')\n",
    "model_id = \"Salesforce/codet5p-110m-embedding\"\n",
    "tokenizer = AutoTokenizer.from_pretrained(model_id)\n",
    "model = AutoModel.from_pretrained(model_id, device_map=gpu, torch_dtype=torch.bfloat16, trust_remote_code=True)"
   ]
  },
  {
   "cell_type": "code",
   "execution_count": 3,
   "id": "5d4fe129-9022-4bcc-ae7d-2b63253c0da4",
   "metadata": {},
   "outputs": [],
   "source": [
    "def embed(code):\n",
    "    \"\"\"Use the model to embed the given code\"\"\"\n",
    "    inputs = tokenizer.encode(code, return_tensors='pt').to(gpu)\n",
    "    output = model(inputs)[0]\n",
    "    \n",
    "    # convert to \"CPU-friendly\" datatype (GPU has bfloat16, which is incompatible with x86 code) and pull to CPU\n",
    "    return output.detach().to(torch.float32).cpu().numpy()"
   ]
  },
  {
   "cell_type": "code",
   "execution_count": 6,
   "id": "3796f1ab-f1a6-474a-b226-fe7ff84333e2",
   "metadata": {},
   "outputs": [
    {
     "data": {
      "text/plain": [
       "array([ 0.01831055,  0.06787109, -0.0703125 , -0.01257324, -0.02856445,\n",
       "       -0.01721191, -0.0324707 ,  0.04125977,  0.00268555, -0.06542969,\n",
       "       -0.05615234, -0.03222656,  0.00643921, -0.01507568,  0.04125977,\n",
       "       -0.03857422,  0.06689453, -0.04833984,  0.02502441, -0.03466797,\n",
       "       -0.16894531,  0.0267334 ,  0.00915527, -0.04980469,  0.02380371,\n",
       "        0.08544922, -0.12695312, -0.03686523,  0.05126953,  0.05957031,\n",
       "       -0.05493164, -0.1640625 ,  0.00384521,  0.01452637,  0.0546875 ,\n",
       "        0.00964355, -0.0168457 ,  0.00726318,  0.03271484,  0.0534668 ,\n",
       "        0.05664062,  0.03466797,  0.00497437,  0.0378418 ,  0.0255127 ,\n",
       "       -0.0222168 , -0.00622559,  0.09228516,  0.16796875, -0.04101562,\n",
       "       -0.00640869,  0.05737305,  0.00418091, -0.00259399,  0.03710938,\n",
       "       -0.04663086,  0.13085938, -0.0133667 , -0.11816406,  0.09912109,\n",
       "       -0.012146  ,  0.0324707 ,  0.0324707 ,  0.02258301,  0.02832031,\n",
       "        0.06054688,  0.08203125,  0.06640625,  0.01281738, -0.09619141,\n",
       "       -0.02160645,  0.18457031, -0.1875    , -0.00817871, -0.0546875 ,\n",
       "       -0.03369141,  0.00145721,  0.02893066,  0.06933594, -0.07177734,\n",
       "       -0.01672363,  0.10351562,  0.07275391, -0.06787109,  0.01409912,\n",
       "       -0.00340271,  0.11816406,  0.01611328, -0.03442383, -0.02990723,\n",
       "       -0.0027771 , -0.03686523, -0.00259399,  0.14355469,  0.0255127 ,\n",
       "       -0.03955078, -0.02893066,  0.05322266,  0.03613281, -0.14355469,\n",
       "        0.01409912,  0.10888672, -0.0859375 , -0.05493164,  0.08789062,\n",
       "        0.04541016,  0.01226807, -0.03112793, -0.05712891, -0.08544922,\n",
       "       -0.01635742,  0.03833008, -0.03149414,  0.02722168, -0.01708984,\n",
       "        0.01867676, -0.10253906,  0.02612305,  0.01531982,  0.00390625,\n",
       "       -0.00546265, -0.04345703, -0.09179688,  0.04638672,  0.02050781,\n",
       "       -0.02770996, -0.00427246,  0.03686523,  0.01416016,  0.07177734,\n",
       "        0.015625  ,  0.02575684,  0.01782227,  0.03833008, -0.02258301,\n",
       "        0.03222656,  0.03417969, -0.12060547,  0.12158203,  0.13964844,\n",
       "       -0.00830078,  0.06445312, -0.03271484,  0.01904297,  0.06396484,\n",
       "        0.02954102, -0.00286865,  0.01867676,  0.03735352,  0.0291748 ,\n",
       "       -0.01202393, -0.03735352,  0.03686523,  0.03466797,  0.06591797,\n",
       "        0.15429688,  0.05908203, -0.046875  ,  0.03271484, -0.03173828,\n",
       "       -0.04125977,  0.05126953,  0.09912109,  0.13378906,  0.00075912,\n",
       "       -0.10058594,  0.09179688,  0.05908203, -0.03125   ,  0.02355957,\n",
       "       -0.0177002 ,  0.0222168 ,  0.03149414, -0.04272461,  0.0246582 ,\n",
       "       -0.0559082 , -0.00723267,  0.05249023, -0.06347656,  0.015625  ,\n",
       "        0.06494141,  0.08740234,  0.01525879,  0.06445312, -0.0390625 ,\n",
       "        0.04394531, -0.13964844,  0.01190186,  0.08105469,  0.10546875,\n",
       "        0.09326172,  0.05029297, -0.07324219,  0.01000977, -0.03173828,\n",
       "       -0.02990723, -0.00109863,  0.10205078,  0.00866699, -0.10253906,\n",
       "        0.01477051, -0.06103516,  0.04003906, -0.06298828, -0.08740234,\n",
       "       -0.06054688,  0.03149414, -0.02563477,  0.02087402,  0.06787109,\n",
       "       -0.02294922,  0.0859375 ,  0.15429688, -0.00872803,  0.03466797,\n",
       "       -0.05102539,  0.10253906, -0.09521484,  0.01635742,  0.07470703,\n",
       "        0.01855469, -0.07617188,  0.09814453, -0.04614258,  0.05297852,\n",
       "        0.00485229,  0.08740234,  0.10791016, -0.03295898, -0.0324707 ,\n",
       "        0.03222656,  0.06030273, -0.10791016,  0.01428223,  0.02160645,\n",
       "       -0.01391602,  0.08398438,  0.00854492, -0.12988281, -0.04272461,\n",
       "       -0.03588867, -0.05297852, -0.04150391,  0.07666016, -0.05322266,\n",
       "       -0.07470703, -0.08447266,  0.07177734, -0.01525879,  0.07177734,\n",
       "        0.00915527, -0.07470703,  0.01147461, -0.00268555,  0.04858398,\n",
       "        0.04150391], dtype=float32)"
      ]
     },
     "execution_count": 6,
     "metadata": {},
     "output_type": "execute_result"
    }
   ],
   "source": [
    "# Let's check out an example embedding:\n",
    "example_code = '''def fib(n):\n",
    "    return fib(n - 1) + fib(n - 2) if n > 1 else n\n",
    "    '''\n",
    "embed(example_code)\n",
    "\n",
    "# print(len(embed(example_code)))"
   ]
  },
  {
   "cell_type": "markdown",
   "id": "14be3e94-2823-4bd0-b390-82188c357be7",
   "metadata": {},
   "source": [
    "## 👩‍💻 Build a Simple Code \"Database\"\n",
    "\n",
    "We need some code to retrieve. For this example, we use all functions in the [Flask](https://github.com/pallets/flask) web framework, extracting them using GitPyton and tree-sitter."
   ]
  },
  {
   "cell_type": "code",
   "execution_count": 7,
   "id": "706abde1-8a11-480c-9eff-d4b4c24cd2ab",
   "metadata": {},
   "outputs": [],
   "source": [
    "import git\n",
    "import autopep8\n",
    "import tree_sitter_python as tspython\n",
    "from tree_sitter import Language, Parser\n",
    "import numpy as np\n",
    "\n",
    "PY_LANGUAGE = Language(tspython.language(), \"python\")"
   ]
  },
  {
   "cell_type": "code",
   "execution_count": 9,
   "id": "7e34d00f-126e-4dad-87d0-2bcf0879d493",
   "metadata": {},
   "outputs": [],
   "source": [
    "def repo_to_functions(repo_location):\n",
    "    \"\"\"Extract all Python function definitions from the given Git repository, identifying each by <repo>:<file_name>:<function_name>\"\"\"\n",
    "\n",
    "    # fetch top commit's tree\n",
    "    repo = git.Repo(repo_location)\n",
    "    tree = repo.head.commit.tree\n",
    "\n",
    "    # parser and query for Python\n",
    "    parser = Parser()\n",
    "    parser.set_language(PY_LANGUAGE)\n",
    "    query = PY_LANGUAGE.query('''(function_definition) @func''')\n",
    "\n",
    "    # read all .py files\n",
    "    files = [(item.name, item.data_stream.read())\n",
    "             for item in tree.list_traverse()\n",
    "             if item.type == 'blob'\n",
    "             and item.name.endswith('.py')]\n",
    "\n",
    "    def function_name(node):\n",
    "        return node.child_by_field_name('name').text.decode('utf-8')\n",
    "    \n",
    "    # query all functions in all files. We use <repo>:<file_name>:<function_name> as \"ID\"\n",
    "    functions = {f'{repo_location}:{name}:{function_name(node)}' : autopep8.fix_code(node.text)\n",
    "                 for name, file in files\n",
    "                 for node, _ in query.captures(parser.parse(file).root_node)}\n",
    "\n",
    "    return functions"
   ]
  },
  {
   "cell_type": "code",
   "execution_count": 10,
   "id": "02462f95-fc1c-4771-bdf2-e0298f585d68",
   "metadata": {},
   "outputs": [
    {
     "name": "stdout",
     "output_type": "stream",
     "text": [
      "fatal: destination path 'flask.git' already exists and is not an empty directory.\n"
     ]
    },
    {
     "name": "stderr",
     "output_type": "stream",
     "text": [
      "huggingface/tokenizers: The current process just got forked, after parallelism has already been used. Disabling parallelism to avoid deadlocks...\n",
      "To disable this warning, you can either:\n",
      "\t- Avoid using `tokenizers` before the fork if possible\n",
      "\t- Explicitly set the environment variable TOKENIZERS_PARALLELISM=(true | false)\n"
     ]
    }
   ],
   "source": [
    "!git clone --bare https://github.com/pallets/flask.git\n",
    "\n",
    "# related repository suggestions:\n",
    "# - https://github.com/pallets/werkzeug.git\n",
    "# - https://github.com/pallets/jinja.git\n"
   ]
  },
  {
   "cell_type": "code",
   "execution_count": 11,
   "id": "692a90f1-2d05-4261-821d-09dff162ea29",
   "metadata": {},
   "outputs": [
    {
     "name": "stdout",
     "output_type": "stream",
     "text": [
      "CPU times: user 12.2 s, sys: 108 ms, total: 12.3 s\n",
      "Wall time: 12.3 s\n"
     ]
    }
   ],
   "source": [
    "%%time\n",
    "# build a dictionary of functions\n",
    "functions = repo_to_functions('./flask.git')\n",
    "# add other repositories:\n",
    "#functions.update(repo_to_functions('<OTHER REPO>'))\n"
   ]
  },
  {
   "cell_type": "code",
   "execution_count": 13,
   "id": "59f20aae-b4bf-4589-b7c3-daba2af0b0a0",
   "metadata": {},
   "outputs": [
    {
     "name": "stdout",
     "output_type": "stream",
     "text": [
      "1107 functions extracted\n"
     ]
    }
   ],
   "source": [
    "print(f'{len(functions)} functions extracted')"
   ]
  },
  {
   "cell_type": "markdown",
   "id": "aea81f7c-2c5e-4e0b-82b1-a522c7800d70",
   "metadata": {},
   "source": [
    "## 📖 Populate a Simple \"Vector Database\"\n",
    "\n",
    "* We compute the code embedding for each function, storing it under the key (function name).\n",
    "* The retriever embeds the query and ranks each item according to cosine similarity.\n",
    "* ⚠️ For larger databases, use a real vector database or specialized frameworks (e.g., [LlamaIndex](https://docs.llamaindex.ai/en/stable/))"
   ]
  },
  {
   "cell_type": "code",
   "execution_count": 14,
   "id": "7a3d9760-3135-448f-8f4d-917acc97e521",
   "metadata": {},
   "outputs": [
    {
     "name": "stderr",
     "output_type": "stream",
     "text": [
      "Token indices sequence length is longer than the specified maximum sequence length for this model (513 > 512). Running this sequence through the model will result in indexing errors\n"
     ]
    },
    {
     "name": "stdout",
     "output_type": "stream",
     "text": [
      "CPU times: user 25.9 s, sys: 40.2 ms, total: 25.9 s\n",
      "Wall time: 25.9 s\n"
     ]
    }
   ],
   "source": [
    "%%time\n",
    "# compute embeddings for each function\n",
    "embeddings = {name : embed(code) for name, code in functions.items()}"
   ]
  },
  {
   "cell_type": "code",
   "execution_count": 33,
   "id": "ee94fc01-ddca-4566-bd77-ea3adcf5c818",
   "metadata": {},
   "outputs": [],
   "source": [
    "def retrieve(embeddings, query):\n",
    "    \"\"\"Rank embedded items by their similarity to the query\"\"\"\n",
    "    \n",
    "    query_embed = embed(query)\n",
    "    similarities = [(name, -np.linalg.norm(query_embed - embedding))\n",
    "                    for name, embedding in embeddings.items()]\n",
    "    #similarities = [(name, np.dot(query_embed, embedding))\n",
    "    #                for name, embedding in embeddings.items()]\n",
    "    return sorted(similarities, key=lambda item: item[1], reverse=True)\n"
   ]
  },
  {
   "cell_type": "markdown",
   "id": "3a641554-cf14-41c9-bfb8-510b36054cff",
   "metadata": {},
   "source": [
    "## Test Retrieval"
   ]
  },
  {
   "cell_type": "code",
   "execution_count": 34,
   "id": "76fcaaf8-6350-4877-8c83-ae5d77a22b88",
   "metadata": {},
   "outputs": [],
   "source": [
    "top_10 = retrieve(embeddings, \"# test whether a user can log in\")[:10]"
   ]
  },
  {
   "cell_type": "code",
   "execution_count": 35,
   "id": "d66887e7-041e-446d-9245-e5023256d89e",
   "metadata": {},
   "outputs": [
    {
     "name": "stdout",
     "output_type": "stream",
     "text": [
      "================================================================================\n",
      "1: ./flask.git:test_auth.py:test_login (-0.95)\n",
      "--------------------------------------------------------------------------------\n",
      "def test_login(client, auth):\n",
      "    # test that viewing the page renders without template errors\n",
      "    assert client.get(\"/auth/login\").status_code == 200\n",
      "\n",
      "    # test that successful login redirects to the index page\n",
      "    response = auth.login()\n",
      "    assert response.headers[\"Location\"] == \"/\"\n",
      "\n",
      "    # login request set the user_id in the session\n",
      "    # check that the user is loaded from the session\n",
      "    with client:\n",
      "        client.get(\"/\")\n",
      "        assert session[\"user_id\"] == 1\n",
      "        assert g.user[\"username\"] == \"test\"\n",
      "\n",
      "================================================================================\n",
      "2: ./flask.git:test_auth.py:test_register (-0.98)\n",
      "--------------------------------------------------------------------------------\n",
      "def test_register(client, app):\n",
      "    # test that viewing the page renders without template errors\n",
      "    assert client.get(\"/auth/register\").status_code == 200\n",
      "\n",
      "    # test that successful registration redirects to the login page\n",
      "    response = client.post(\n",
      "        \"/auth/register\", data={\"username\": \"a\", \"password\": \"a\"})\n",
      "    assert response.headers[\"Location\"] == \"/auth/login\"\n",
      "\n",
      "    # test that the user was inserted into the database\n",
      "    with app.app_context():\n",
      "        assert (\n",
      "            get_db().execute(\"SELECT * FROM user WHERE username = 'a'\").fetchone()\n",
      "            is not None\n",
      "        )\n",
      "\n",
      "================================================================================\n",
      "3: ./flask.git:test_blog.py:test_login_required (-1.02)\n",
      "--------------------------------------------------------------------------------\n",
      "def test_login_required(client, path):\n",
      "    response = client.post(path)\n",
      "    assert response.headers[\"Location\"] == \"/auth/login\"\n",
      "\n",
      "================================================================================\n",
      "4: ./flask.git:test_auth.py:test_login_validate_input (-1.02)\n",
      "--------------------------------------------------------------------------------\n",
      "def test_login_validate_input(auth, username, password, message):\n",
      "    response = auth.login(username, password)\n",
      "    assert message in response.data\n",
      "\n",
      "================================================================================\n",
      "5: ./flask.git:test_blog.py:test_author_required (-1.02)\n",
      "--------------------------------------------------------------------------------\n",
      "def test_author_required(app, client, auth):\n",
      "    # change the post author to another user\n",
      "    with app.app_context():\n",
      "        db = get_db()\n",
      "        db.execute(\"UPDATE post SET author_id = 2 WHERE id = 1\")\n",
      "        db.commit()\n",
      "\n",
      "    auth.login()\n",
      "    # current user can't modify other user's post\n",
      "    assert client.post(\"/1/update\").status_code == 403\n",
      "    assert client.post(\"/1/delete\").status_code == 403\n",
      "    # current user doesn't see edit link\n",
      "    assert b'href=\"/1/update\"' not in client.get(\"/\").data\n",
      "\n",
      "================================================================================\n",
      "6: ./flask.git:test_auth.py:test_logout (-1.03)\n",
      "--------------------------------------------------------------------------------\n",
      "def test_logout(client, auth):\n",
      "    auth.login()\n",
      "\n",
      "    with client:\n",
      "        auth.logout()\n",
      "        assert \"user_id\" not in session\n",
      "\n",
      "================================================================================\n",
      "7: ./flask.git:test_auth.py:test_register_validate_input (-1.05)\n",
      "--------------------------------------------------------------------------------\n",
      "def test_register_validate_input(client, username, password, message):\n",
      "    response = client.post(\n",
      "        \"/auth/register\", data={\"username\": username, \"password\": password}\n",
      "    )\n",
      "    assert message in response.data\n",
      "\n",
      "================================================================================\n",
      "8: ./flask.git:test_cli.py:test (-1.07)\n",
      "--------------------------------------------------------------------------------\n",
      "def test():\n",
      "    click.echo(str(current_app.debug))\n",
      "\n",
      "================================================================================\n",
      "9: ./flask.git:auth.py:login (-1.07)\n",
      "--------------------------------------------------------------------------------\n",
      "def login():\n",
      "    \"\"\"Log in a registered user by adding the user id to the session.\"\"\"\n",
      "    if request.method == \"POST\":\n",
      "        username = request.form[\"username\"]\n",
      "        password = request.form[\"password\"]\n",
      "        db = get_db()\n",
      "        error = None\n",
      "        user = db.execute(\n",
      "            \"SELECT * FROM user WHERE username = ?\", (username,)\n",
      "        ).fetchone()\n",
      "\n",
      "        if user is None:\n",
      "            error = \"Incorrect username.\"\n",
      "        elif not check_password_hash(user[\"password\"], password):\n",
      "            error = \"Incorrect password.\"\n",
      "\n",
      "        if error is None:\n",
      "            # store the user id in a new session and return to the index\n",
      "            session.clear()\n",
      "            session[\"user_id\"] = user[\"id\"]\n",
      "            return redirect(url_for(\"index\"))\n",
      "\n",
      "        flash(error)\n",
      "\n",
      "    return render_template(\"auth/login.html\")\n",
      "\n",
      "================================================================================\n",
      "10: ./flask.git:test_cli.py:testcmd (-1.07)\n",
      "--------------------------------------------------------------------------------\n",
      "def testcmd():\n",
      "    click.echo(current_app.name)\n",
      "\n"
     ]
    }
   ],
   "source": [
    "# Print top 10 results:\n",
    "def print_retrieval_results(ranked_results):\n",
    "    for index, (name, similarity) in enumerate(ranked_results):\n",
    "        print('=' * 80)\n",
    "        print(f'{index + 1}: {name} ({similarity:.2f})')\n",
    "        print('-' * 80)\n",
    "        print(functions[name])\n",
    "print_retrieval_results(top_10)\n",
    "    "
   ]
  },
  {
   "cell_type": "markdown",
   "id": "b3e06c78-3b47-4c69-a73b-2bbe550bef45",
   "metadata": {},
   "source": [
    "## Visualize Embedding Space\n",
    "\n",
    "We map each 256-dimensional vector to a 2D vector using PCA and plot the result.\n",
    "* Tests are red\n",
    "* Non-test functions are blue"
   ]
  },
  {
   "cell_type": "code",
   "execution_count": 19,
   "id": "12d83aa4-ddee-4b58-a326-841b3176a3f4",
   "metadata": {},
   "outputs": [],
   "source": [
    "from sklearn.decomposition import PCA\n",
    "from matplotlib import pyplot as plt"
   ]
  },
  {
   "cell_type": "code",
   "execution_count": 20,
   "id": "a1d61112-e7e8-4dd6-b5a0-a909db5a3630",
   "metadata": {},
   "outputs": [],
   "source": [
    "pca = PCA(2)\n",
    "keys = list(embeddings.keys())\n",
    "vectors = list(embeddings.values())\n",
    "\n",
    "# do the PCA transformation\n",
    "projected = pca.fit_transform(vectors)\n",
    "\n",
    "# define a color for each data point based on the keys\n",
    "colors = ['red' if 'test_' in k else 'blue' for k in keys]"
   ]
  },
  {
   "cell_type": "code",
   "execution_count": null,
   "id": "39599958-4127-4a5b-8766-5744c680baa1",
   "metadata": {},
   "outputs": [],
   "source": [
    "plt.scatter(x = projected[:, 0], y=projected[:,1], color=colors)\n",
    "plt.show()"
   ]
  },
  {
   "cell_type": "code",
   "execution_count": 23,
   "id": "bf568998-b354-47c9-92cf-6ead7269212c",
   "metadata": {},
   "outputs": [
    {
     "name": "stdout",
     "output_type": "stream",
     "text": [
      "================================================================================\n",
      "1: ./flask.git:test_auth.py:test_login (0.57)\n",
      "--------------------------------------------------------------------------------\n",
      "def test_login(client, auth):\n",
      "    # test that viewing the page renders without template errors\n",
      "    assert client.get(\"/auth/login\").status_code == 200\n",
      "\n",
      "    # test that successful login redirects to the index page\n",
      "    response = auth.login()\n",
      "    assert response.headers[\"Location\"] == \"/\"\n",
      "\n",
      "    # login request set the user_id in the session\n",
      "    # check that the user is loaded from the session\n",
      "    with client:\n",
      "        client.get(\"/\")\n",
      "        assert session[\"user_id\"] == 1\n",
      "        assert g.user[\"username\"] == \"test\"\n",
      "\n",
      "================================================================================\n",
      "2: ./flask.git:test_auth.py:test_register (0.57)\n",
      "--------------------------------------------------------------------------------\n",
      "def test_register(client, app):\n",
      "    # test that viewing the page renders without template errors\n",
      "    assert client.get(\"/auth/register\").status_code == 200\n",
      "\n",
      "    # test that successful registration redirects to the login page\n",
      "    response = client.post(\n",
      "        \"/auth/register\", data={\"username\": \"a\", \"password\": \"a\"})\n",
      "    assert response.headers[\"Location\"] == \"/auth/login\"\n",
      "\n",
      "    # test that the user was inserted into the database\n",
      "    with app.app_context():\n",
      "        assert (\n",
      "            get_db().execute(\"SELECT * FROM user WHERE username = 'a'\").fetchone()\n",
      "            is not None\n",
      "        )\n",
      "\n",
      "================================================================================\n",
      "3: ./flask.git:test_blog.py:test_author_required (0.55)\n",
      "--------------------------------------------------------------------------------\n",
      "def test_author_required(app, client, auth):\n",
      "    # change the post author to another user\n",
      "    with app.app_context():\n",
      "        db = get_db()\n",
      "        db.execute(\"UPDATE post SET author_id = 2 WHERE id = 1\")\n",
      "        db.commit()\n",
      "\n",
      "    auth.login()\n",
      "    # current user can't modify other user's post\n",
      "    assert client.post(\"/1/update\").status_code == 403\n",
      "    assert client.post(\"/1/delete\").status_code == 403\n",
      "    # current user doesn't see edit link\n",
      "    assert b'href=\"/1/update\"' not in client.get(\"/\").data\n",
      "\n",
      "================================================================================\n",
      "4: ./flask.git:test_basic.py:login (0.53)\n",
      "--------------------------------------------------------------------------------\n",
      "def login():\n",
      "    flask.session[\"user_id\"] = 1\n",
      "    flask.session.permanent = True\n",
      "    return \"\"\n",
      "\n",
      "================================================================================\n",
      "5: ./flask.git:test_auth.py:test_login_validate_input (0.53)\n",
      "--------------------------------------------------------------------------------\n",
      "def test_login_validate_input(auth, username, password, message):\n",
      "    response = auth.login(username, password)\n",
      "    assert message in response.data\n",
      "\n",
      "================================================================================\n",
      "6: ./flask.git:test_auth.py:test_logout (0.51)\n",
      "--------------------------------------------------------------------------------\n",
      "def test_logout(client, auth):\n",
      "    auth.login()\n",
      "\n",
      "    with client:\n",
      "        auth.logout()\n",
      "        assert \"user_id\" not in session\n",
      "\n",
      "================================================================================\n",
      "7: ./flask.git:test_blog.py:test_login_required (0.51)\n",
      "--------------------------------------------------------------------------------\n",
      "def test_login_required(client, path):\n",
      "    response = client.post(path)\n",
      "    assert response.headers[\"Location\"] == \"/auth/login\"\n",
      "\n",
      "================================================================================\n",
      "8: ./flask.git:test_cli.py:create_app (0.51)\n",
      "--------------------------------------------------------------------------------\n",
      "def create_app():\n",
      "    raise Exception(\"oh no\")\n",
      "\n",
      "================================================================================\n",
      "9: ./flask.git:test_appctx.py:test_request_context_means_app_context (0.50)\n",
      "--------------------------------------------------------------------------------\n",
      "def test_request_context_means_app_context(app):\n",
      "    with app.test_request_context():\n",
      "        assert flask.current_app._get_current_object() is app\n",
      "    assert not flask.current_app\n",
      "\n",
      "================================================================================\n",
      "10: ./flask.git:test_user_error_handler.py:app_test (0.50)\n",
      "--------------------------------------------------------------------------------\n",
      "def app_test():\n",
      "    raise InternalServerError()\n",
      "\n"
     ]
    }
   ],
   "source": [
    "top_10 = retrieve(embeddings, \"assert user.can_login()\")[:10]\n",
    "print_retrieval_results(top_10)"
   ]
  },
  {
   "cell_type": "markdown",
   "id": "8b4297c7-09f4-4e12-b852-ecc505901c44",
   "metadata": {},
   "source": [
    "## Generation-augmented Retrieval (GAR)\n",
    "\n",
    "* Generation-augmented retrieval expands the user's query using an LLM.\n",
    "* Retrieval compares against the embedding of the generated query\n",
    "* Here, we do **code completion** to obtain an example code from **natural language**, which should make it **easier to match against other code** because they now share the same qualities."
   ]
  },
  {
   "cell_type": "code",
   "execution_count": 17,
   "id": "a512ea05-ee95-4b3b-b0ca-579ba9fe8298",
   "metadata": {},
   "outputs": [
    {
     "name": "stderr",
     "output_type": "stream",
     "text": [
      "/usr/local/lib/python3.10/dist-packages/huggingface_hub/file_download.py:1132: FutureWarning: `resume_download` is deprecated and will be removed in version 1.0.0. Downloads always resume when possible. If you want to force a new download, use `force_download=True`.\n",
      "  warnings.warn(\n",
      "`config.hidden_act` is ignored, you should use `config.hidden_activation` instead.\n",
      "Gemma's activation function will be set to `gelu_pytorch_tanh`. Please, use\n",
      "`config.hidden_activation` if you want to override this behaviour.\n",
      "See https://github.com/huggingface/transformers/pull/29402 for more details.\n"
     ]
    },
    {
     "data": {
      "application/vnd.jupyter.widget-view+json": {
       "model_id": "4903a95d73294d8dbb480bfa4af3121a",
       "version_major": 2,
       "version_minor": 0
      },
      "text/plain": [
       "Loading checkpoint shards:   0%|          | 0/2 [00:00<?, ?it/s]"
      ]
     },
     "metadata": {},
     "output_type": "display_data"
    }
   ],
   "source": [
    "from transformers import GemmaTokenizer, AutoModelForCausalLM\n",
    "gen_model_id = \"google/codegemma-1.1-2b\"\n",
    "gen_tokenizer = GemmaTokenizer.from_pretrained(gen_model_id)\n",
    "gen_model = AutoModelForCausalLM.from_pretrained(gen_model_id, device_map=gpu, torch_dtype=torch.bfloat16)"
   ]
  },
  {
   "cell_type": "code",
   "execution_count": 18,
   "id": "3ed379f1-6e29-459c-bae1-ce9f6285f98b",
   "metadata": {},
   "outputs": [],
   "source": [
    "# A standard greedy generation helper\n",
    "def generate(prompt, max_new_tokens=128):\n",
    "    inputs = gen_tokenizer.encode(prompt, return_tensors='pt').to(gpu)\n",
    "    outputs = gen_model.generate(inputs, max_new_tokens=max_new_tokens)\n",
    "    return gen_tokenizer.decode(outputs[0])\n",
    "\n",
    "def generate_retrieve(embeddings, prompt):\n",
    "    generated = generate(prompt)\n",
    "    return retrieve(embeddings, generated), generated"
   ]
  },
  {
   "cell_type": "code",
   "execution_count": null,
   "id": "f8a5f665-bace-4be0-bd1c-105e022fd9e5",
   "metadata": {},
   "outputs": [],
   "source": [
    "top_10, generated = generate_retrieve(embeddings, \"# A flask test case to verify user login functionality:\\n\")[:10]\n",
    "\n",
    "print('Generated query:')\n",
    "print(generated)\n",
    "\n",
    "print_retrieval_results(top_10)"
   ]
  },
  {
   "cell_type": "code",
   "execution_count": null,
   "id": "43babde6-2a56-41c3-924a-c94a0ca7f53b",
   "metadata": {},
   "outputs": [],
   "source": []
  }
 ],
 "metadata": {
  "kernelspec": {
   "display_name": "Python 3 (ipykernel)",
   "language": "python",
   "name": "python3"
  },
  "language_info": {
   "codemirror_mode": {
    "name": "ipython",
    "version": 3
   },
   "file_extension": ".py",
   "mimetype": "text/x-python",
   "name": "python",
   "nbconvert_exporter": "python",
   "pygments_lexer": "ipython3",
   "version": "3.10.12"
  }
 },
 "nbformat": 4,
 "nbformat_minor": 5
}
