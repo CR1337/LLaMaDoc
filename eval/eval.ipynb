{
 "cells": [
  {
   "cell_type": "code",
   "execution_count": 1,
   "metadata": {},
   "outputs": [],
   "source": [
    "import requests\n",
    "import matplotlib.pyplot as plt\n",
    "from typing import List\n",
    "from model import (\n",
    "    SampleMethod, TestMethod, DistanceFunction, GenerationParameters, \n",
    "    TestParameters, PredictionTestParameters, DistanceTestParameters, \n",
    "    TestQuery, TestResult, TestResponse\n",
    ")\n",
    "import numpy as np\n",
    "from itertools import product\n",
    "from tqdm import tqdm\n",
    "import pickle\n",
    "import json\n",
    "import os"
   ]
  },
  {
   "cell_type": "code",
   "execution_count": 2,
   "metadata": {},
   "outputs": [],
   "source": [
    "SEVER_URL = \"http://delos.eaalab.hpi.uni-potsdam.de\"\n",
    "SERVER_PORT = 9002"
   ]
  },
  {
   "cell_type": "code",
   "execution_count": 3,
   "metadata": {},
   "outputs": [],
   "source": [
    "def get_generative_models() -> List[str]:\n",
    "    url = f\"{SEVER_URL}:{SERVER_PORT}/models/generative\"\n",
    "    response = requests.get(url)\n",
    "    return response.json()\n",
    "\n",
    "def get_embedding_models() -> List[str]:\n",
    "    url = f\"{SEVER_URL}:{SERVER_PORT}/models/embedding\"\n",
    "    response = requests.get(url)\n",
    "    return response.json()\n",
    "\n",
    "def unload_model(mid: str):\n",
    "    url = f\"{SEVER_URL}:{SERVER_PORT}/unload/{mid}\"\n",
    "    response = requests.delete(url)\n",
    "    return response.json()\n",
    "\n",
    "def run_test(\n",
    "    mid: str,\n",
    "    codes: List[str],\n",
    "    docstrings: List[str],\n",
    "    test_method: TestMethod,\n",
    "    test_parameters: TestParameters,\n",
    ") -> TestResponse:\n",
    "    test_query = TestQuery(\n",
    "        mid=mid,\n",
    "        codes=codes,\n",
    "        docstrings=docstrings,\n",
    "        test_method=test_method,\n",
    "        test_parameters=test_parameters,\n",
    "    )\n",
    "    response = requests.post(\n",
    "        f\"{SEVER_URL}:{SERVER_PORT}/test\",\n",
    "        json=test_query.model_dump(),\n",
    "    )\n",
    "    response.raise_for_status()\n",
    "    return TestResponse(**response.json())"
   ]
  },
  {
   "cell_type": "code",
   "execution_count": 4,
   "metadata": {},
   "outputs": [],
   "source": [
    "# Defaults\n",
    "\n",
    "sample_method = SampleMethod.TOP_P\n",
    "generation_parameters = GenerationParameters(\n",
    "    max_new_tokens=256,\n",
    "    sample_method=sample_method,\n",
    "    top_p=0.85,\n",
    "    temperature=0.5,\n",
    ")"
   ]
  },
  {
   "cell_type": "code",
   "execution_count": 5,
   "metadata": {},
   "outputs": [
    {
     "name": "stdout",
     "output_type": "stream",
     "text": [
      "Embedding model: microsoft/codebert-base\n",
      "Generative models: ['google/codegemma-2b']\n"
     ]
    }
   ],
   "source": [
    "embedding_model = get_embedding_models()[0]\n",
    "generative_models = get_generative_models()\n",
    "\n",
    "print(\"Embedding model:\", embedding_model)\n",
    "print(\"Generative models:\", generative_models)"
   ]
  },
  {
   "cell_type": "code",
   "execution_count": 6,
   "metadata": {},
   "outputs": [
    {
     "name": "stdout",
     "output_type": "stream",
     "text": [
      "Distance test configurations: 48\n",
      "Prediction test configurations: 96\n"
     ]
    }
   ],
   "source": [
    "distance_test_configs = {\n",
    "    f\"{generative_model}_{distance_function}_{normalize}_{sample_many}_{test_threshold}\": {\n",
    "        \"mid\": generative_model,\n",
    "        \"test_method\": TestMethod.DISTANCE,\n",
    "        \"test_parameters\": DistanceTestParameters(\n",
    "            mid=embedding_model,\n",
    "            distance_function=distance_function,\n",
    "            normalize=normalize,\n",
    "            sample_many=sample_many,\n",
    "            test_threshold=test_threshold,\n",
    "            generation_parameters=generation_parameters\n",
    "        )\n",
    "    }\n",
    "    for generative_model, distance_function, normalize, sample_many, test_threshold in product(\n",
    "        generative_models,\n",
    "        [DistanceFunction.COSINE, DistanceFunction.EUCLIDEAN],\n",
    "        [True, False],\n",
    "        [True, False],\n",
    "        [0.5, 0.75, 1.0, 1.25, 1.5, 1.75]\n",
    "    )\n",
    "}\n",
    "\n",
    "prediction_test_configs = {\n",
    "    f\"{generative_model}_{weight_decay}_{frequency_importance}_{test_threshold}\": {\n",
    "        \"mid\": generative_model,\n",
    "        \"test_method\": TestMethod.PREDICTION,\n",
    "        \"test_parameters\": PredictionTestParameters(\n",
    "            weight_decay=weight_decay,\n",
    "            frequency_importance=frequency_importance,\n",
    "            test_threshold=test_threshold,\n",
    "            generation_parameters=generation_parameters\n",
    "        )\n",
    "    }\n",
    "    for generative_model, weight_decay, frequency_importance, test_threshold in product(\n",
    "        generative_models,\n",
    "        [0.0, 0.25, 0.5, 0.75],\n",
    "        [0.0, 0.25, 0.5, 0.75],\n",
    "        [0.5, 0.75, 1.0, 1.25, 1.5, 1.75]\n",
    "    )\n",
    "}\n",
    "\n",
    "print(\"Distance test configurations:\", len(distance_test_configs))\n",
    "print(\"Prediction test configurations:\", len(prediction_test_configs))"
   ]
  },
  {
   "cell_type": "code",
   "execution_count": 14,
   "metadata": {},
   "outputs": [
    {
     "name": "stdout",
     "output_type": "stream",
     "text": [
      "4144\n",
      "259\n"
     ]
    }
   ],
   "source": [
    "with open(\"test_data.json\", 'r') as f:\n",
    "    test_data = json.load(f)\n",
    "\n",
    "BATCH_SIZE = 16\n",
    "\n",
    "codes = [e[\"c\"] for e in test_data]\n",
    "docstrings = [e[\"d\"] for e in test_data]\n",
    "labels = [e[\"l\"] for e in test_data]\n",
    "\n",
    "code_batches = [codes[i:i+BATCH_SIZE] for i in range(0, len(codes), BATCH_SIZE)]\n",
    "docstring_batches = [docstrings[i:i+BATCH_SIZE] for i in range(0, len(docstrings), BATCH_SIZE)]\n",
    "\n",
    "assert len(codes) == len(docstrings) == len(labels)\n",
    "print(len(codes))\n",
    "\n",
    "assert len(code_batches) == len(docstring_batches)\n",
    "print(len(code_batches))"
   ]
  },
  {
   "cell_type": "code",
   "execution_count": 15,
   "metadata": {},
   "outputs": [
    {
     "name": "stderr",
     "output_type": "stream",
     "text": [
      "  0%|          | 0/48 [00:19<?, ?it/s]\n"
     ]
    },
    {
     "ename": "HTTPError",
     "evalue": "507 Server Error: Insufficient Storage for url: http://delos.eaalab.hpi.uni-potsdam.de:9002/test",
     "output_type": "error",
     "traceback": [
      "\u001b[0;31m---------------------------------------------------------------------------\u001b[0m",
      "\u001b[0;31mHTTPError\u001b[0m                                 Traceback (most recent call last)",
      "Cell \u001b[0;32mIn[15], line 13\u001b[0m\n\u001b[1;32m     11\u001b[0m batch_results \u001b[38;5;241m=\u001b[39m []\n\u001b[1;32m     12\u001b[0m \u001b[38;5;28;01mfor\u001b[39;00m i, (codes, docstrings) \u001b[38;5;129;01min\u001b[39;00m \u001b[38;5;28menumerate\u001b[39m(\u001b[38;5;28mzip\u001b[39m(code_batches, docstring_batches)):\n\u001b[0;32m---> 13\u001b[0m     result \u001b[38;5;241m=\u001b[39m \u001b[43mrun_test\u001b[49m\u001b[43m(\u001b[49m\n\u001b[1;32m     14\u001b[0m \u001b[43m        \u001b[49m\u001b[43mmid\u001b[49m\u001b[38;5;241;43m=\u001b[39;49m\u001b[43mconfig\u001b[49m\u001b[43m[\u001b[49m\u001b[38;5;124;43m\"\u001b[39;49m\u001b[38;5;124;43mmid\u001b[39;49m\u001b[38;5;124;43m\"\u001b[39;49m\u001b[43m]\u001b[49m\u001b[43m,\u001b[49m\n\u001b[1;32m     15\u001b[0m \u001b[43m        \u001b[49m\u001b[43mcodes\u001b[49m\u001b[38;5;241;43m=\u001b[39;49m\u001b[43mcodes\u001b[49m\u001b[43m,\u001b[49m\n\u001b[1;32m     16\u001b[0m \u001b[43m        \u001b[49m\u001b[43mdocstrings\u001b[49m\u001b[38;5;241;43m=\u001b[39;49m\u001b[43mdocstrings\u001b[49m\u001b[43m,\u001b[49m\n\u001b[1;32m     17\u001b[0m \u001b[43m        \u001b[49m\u001b[43mtest_method\u001b[49m\u001b[38;5;241;43m=\u001b[39;49m\u001b[43mconfig\u001b[49m\u001b[43m[\u001b[49m\u001b[38;5;124;43m\"\u001b[39;49m\u001b[38;5;124;43mtest_method\u001b[39;49m\u001b[38;5;124;43m\"\u001b[39;49m\u001b[43m]\u001b[49m\u001b[43m,\u001b[49m\n\u001b[1;32m     18\u001b[0m \u001b[43m        \u001b[49m\u001b[43mtest_parameters\u001b[49m\u001b[38;5;241;43m=\u001b[39;49m\u001b[43mconfig\u001b[49m\u001b[43m[\u001b[49m\u001b[38;5;124;43m\"\u001b[39;49m\u001b[38;5;124;43mtest_parameters\u001b[39;49m\u001b[38;5;124;43m\"\u001b[39;49m\u001b[43m]\u001b[49m\u001b[43m,\u001b[49m\n\u001b[1;32m     19\u001b[0m \u001b[43m    \u001b[49m\u001b[43m)\u001b[49m\n\u001b[1;32m     20\u001b[0m     batch_results\u001b[38;5;241m.\u001b[39mextend(result\u001b[38;5;241m.\u001b[39mresults)\n\u001b[1;32m     21\u001b[0m results[config_key][key] \u001b[38;5;241m=\u001b[39m (batch_results, labels)\n",
      "Cell \u001b[0;32mIn[3], line 34\u001b[0m, in \u001b[0;36mrun_test\u001b[0;34m(mid, codes, docstrings, test_method, test_parameters)\u001b[0m\n\u001b[1;32m     23\u001b[0m test_query \u001b[38;5;241m=\u001b[39m TestQuery(\n\u001b[1;32m     24\u001b[0m     mid\u001b[38;5;241m=\u001b[39mmid,\n\u001b[1;32m     25\u001b[0m     codes\u001b[38;5;241m=\u001b[39mcodes,\n\u001b[0;32m   (...)\u001b[0m\n\u001b[1;32m     28\u001b[0m     test_parameters\u001b[38;5;241m=\u001b[39mtest_parameters,\n\u001b[1;32m     29\u001b[0m )\n\u001b[1;32m     30\u001b[0m response \u001b[38;5;241m=\u001b[39m requests\u001b[38;5;241m.\u001b[39mpost(\n\u001b[1;32m     31\u001b[0m     \u001b[38;5;124mf\u001b[39m\u001b[38;5;124m\"\u001b[39m\u001b[38;5;132;01m{\u001b[39;00mSEVER_URL\u001b[38;5;132;01m}\u001b[39;00m\u001b[38;5;124m:\u001b[39m\u001b[38;5;132;01m{\u001b[39;00mSERVER_PORT\u001b[38;5;132;01m}\u001b[39;00m\u001b[38;5;124m/test\u001b[39m\u001b[38;5;124m\"\u001b[39m,\n\u001b[1;32m     32\u001b[0m     json\u001b[38;5;241m=\u001b[39mtest_query\u001b[38;5;241m.\u001b[39mmodel_dump(),\n\u001b[1;32m     33\u001b[0m )\n\u001b[0;32m---> 34\u001b[0m \u001b[43mresponse\u001b[49m\u001b[38;5;241;43m.\u001b[39;49m\u001b[43mraise_for_status\u001b[49m\u001b[43m(\u001b[49m\u001b[43m)\u001b[49m\n\u001b[1;32m     35\u001b[0m \u001b[38;5;28;01mreturn\u001b[39;00m TestResponse(\u001b[38;5;241m*\u001b[39m\u001b[38;5;241m*\u001b[39mresponse\u001b[38;5;241m.\u001b[39mjson())\n",
      "File \u001b[0;32m~/Documents/hpi/out-of-date-docstrings/.venv/lib/python3.10/site-packages/requests/models.py:1024\u001b[0m, in \u001b[0;36mResponse.raise_for_status\u001b[0;34m(self)\u001b[0m\n\u001b[1;32m   1019\u001b[0m     http_error_msg \u001b[38;5;241m=\u001b[39m (\n\u001b[1;32m   1020\u001b[0m         \u001b[38;5;124mf\u001b[39m\u001b[38;5;124m\"\u001b[39m\u001b[38;5;132;01m{\u001b[39;00m\u001b[38;5;28mself\u001b[39m\u001b[38;5;241m.\u001b[39mstatus_code\u001b[38;5;132;01m}\u001b[39;00m\u001b[38;5;124m Server Error: \u001b[39m\u001b[38;5;132;01m{\u001b[39;00mreason\u001b[38;5;132;01m}\u001b[39;00m\u001b[38;5;124m for url: \u001b[39m\u001b[38;5;132;01m{\u001b[39;00m\u001b[38;5;28mself\u001b[39m\u001b[38;5;241m.\u001b[39murl\u001b[38;5;132;01m}\u001b[39;00m\u001b[38;5;124m\"\u001b[39m\n\u001b[1;32m   1021\u001b[0m     )\n\u001b[1;32m   1023\u001b[0m \u001b[38;5;28;01mif\u001b[39;00m http_error_msg:\n\u001b[0;32m-> 1024\u001b[0m     \u001b[38;5;28;01mraise\u001b[39;00m HTTPError(http_error_msg, response\u001b[38;5;241m=\u001b[39m\u001b[38;5;28mself\u001b[39m)\n",
      "\u001b[0;31mHTTPError\u001b[0m: 507 Server Error: Insufficient Storage for url: http://delos.eaalab.hpi.uni-potsdam.de:9002/test"
     ]
    }
   ],
   "source": [
    "if os.path.exists(\"results.pkl\"):\n",
    "    with open(\"results.pkl\", 'rb') as f:\n",
    "        results = pickle.load(f)\n",
    "else:\n",
    "    results = {}\n",
    "\n",
    "    for test_config in (distance_test_configs, prediction_test_configs):\n",
    "        config_key = list(test_config.values())[0][\"test_method\"].value\n",
    "        results[config_key] = {}\n",
    "        for key, config in tqdm(test_config.items(), total=len(test_config)):\n",
    "            batch_results = []\n",
    "            for i, (codes, docstrings) in enumerate(zip(code_batches, docstring_batches)):\n",
    "                result = run_test(\n",
    "                    mid=config[\"mid\"],\n",
    "                    codes=codes,\n",
    "                    docstrings=docstrings,\n",
    "                    test_method=config[\"test_method\"],\n",
    "                    test_parameters=config[\"test_parameters\"],\n",
    "                )\n",
    "                batch_results.extend(result.results)\n",
    "            results[config_key][key] = (batch_results, labels)\n",
    "\n",
    "    with open(\"results.pkl\", 'wb') as f:\n",
    "        pickle.dump(results, f)\n",
    "\n",
    "print(len(results[TestMethod.DISTANCE.value]))\n",
    "print(len(results[TestMethod.PREDICTION.value]))\n"
   ]
  },
  {
   "cell_type": "code",
   "execution_count": null,
   "metadata": {},
   "outputs": [],
   "source": []
  }
 ],
 "metadata": {
  "kernelspec": {
   "display_name": ".venv",
   "language": "python",
   "name": "python3"
  },
  "language_info": {
   "codemirror_mode": {
    "name": "ipython",
    "version": 3
   },
   "file_extension": ".py",
   "mimetype": "text/x-python",
   "name": "python",
   "nbconvert_exporter": "python",
   "pygments_lexer": "ipython3",
   "version": "3.10.12"
  }
 },
 "nbformat": 4,
 "nbformat_minor": 2
}
